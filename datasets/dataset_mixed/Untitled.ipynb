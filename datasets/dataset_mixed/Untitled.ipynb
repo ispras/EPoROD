{
 "cells": [
  {
   "cell_type": "code",
   "execution_count": 125,
   "metadata": {},
   "outputs": [],
   "source": [
    "import sys\n",
    "sys.path.insert(1, '../../notebooks/helpers')\n",
    "\n",
    "import os\n",
    "import pandas as pd\n",
    "from shutil import copyfile\n",
    "from sklearn.model_selection import KFold\n",
    "\n"
   ]
  },
  {
   "cell_type": "code",
   "execution_count": 126,
   "metadata": {},
   "outputs": [],
   "source": [
    "df_path = \"train_flipped/df_Forgetful_Fabio.csv\"\n",
    "n_splits = 10\n",
    "df = pd.read_csv(df_path).drop([\"Unnamed: 0\", \"index\"], axis = 1)\n",
    "X = df.index.values\n",
    "y = df.output_classes.values\n",
    "kf = KFold(n_splits = n_splits, shuffle = True)\n",
    "kf.get_n_splits(X)\n",
    "split_number = 0\n",
    "dfs_train = []\n",
    "dfs_test = []\n",
    "for train_index, test_index in kf.split(X):\n",
    "    split_dir = os.path.join(\"crossval_10\", \"_\".join([\"split\", str(split_number)]))\n",
    "    os.mkdir(split_dir)\n",
    "    split_path = os.path.join(model_dir, \"_\".join([\"split\", str(split_number)]))\n",
    "    temp_dataframes_dir = os.path.join(split_path, \"temp_dataframes\")\n",
    "    df_train_path = os.path.join(split_dir, \"_\".join([\"df\",\"train\", str(split_number),\".csv\"]))\n",
    "    df_test_path = os.path.join(split_dir, \"_\".join([\"df\",\"val\", str(split_number),\".csv\"]))\n",
    "    df_train = df.loc[train_index]\n",
    "    df_test = df.loc[test_index]\n",
    "\n",
    "    df_train.to_csv(df_train_path, index = False)\n",
    "    df_test.to_csv(df_test_path, index = False)\n",
    "    dfs_train.append(df_train)\n",
    "    dfs_test.append(df_test)\n",
    "        \n",
    "    split_number += 1"
   ]
  },
  {
   "cell_type": "code",
   "execution_count": 127,
   "metadata": {},
   "outputs": [],
   "source": [
    "model_dir = \"../../models/for_mixed_dataset/cross_val_10_fold/DenseNet121/\""
   ]
  },
  {
   "cell_type": "code",
   "execution_count": 128,
   "metadata": {},
   "outputs": [
    {
     "data": {
      "text/plain": [
       "set()"
      ]
     },
     "execution_count": 128,
     "metadata": {},
     "output_type": "execute_result"
    }
   ],
   "source": [
    "set(dfs_train[0].filename) & set(dfs_test[0].filename)"
   ]
  },
  {
   "cell_type": "code",
   "execution_count": 129,
   "metadata": {},
   "outputs": [
    {
     "name": "stdout",
     "output_type": "stream",
     "text": [
      "['df_train_0_.csv', 'df_val_0_.csv']\n",
      "['df_train_1_.csv', 'df_val_1_.csv']\n",
      "['df_train_2_.csv', 'df_val_2_.csv']\n",
      "['df_train_3_.csv', 'df_val_3_.csv']\n",
      "['df_train_4_.csv', 'df_val_4_.csv']\n",
      "['df_train_5_.csv', 'df_val_5_.csv']\n",
      "['df_train_6_.csv', 'df_val_6_.csv']\n",
      "['df_train_7_.csv', 'df_val_7_.csv']\n",
      "['df_train_8_.csv', 'df_val_8_.csv']\n",
      "['df_train_9_.csv', 'df_val_9_.csv']\n"
     ]
    }
   ],
   "source": [
    "dfs_train=[]\n",
    "dfs_val=[]\n",
    "for i in range(10):\n",
    "    df_dir = os.path.join(\"crossval_10\", \"split_\" + str(i))\n",
    "    #os.rename(os.path.join(df_dir, \"df_DenseNet121_train-val.csv\"), os.path.join(\"crossval_10\", \"df_train_\" + str(i) + \".csv\"))\n",
    "    #os.rename(os.path.join(df_dir, \"df_DenseNet121_test.csv\"), os.path.join(\"crossval_10\", \"df_train_\" + str(i) + \".csv\"))\n",
    "    #copyfile(os.path.join(\"crossval_10\", \"df_train_\" + str(i) + \".csv\"),os.path.join(df_dir, \"df_DenseNet121_train-val.csv\"))\n",
    "    #copyfile(os.path.join(\"crossval_10\", \"df_train_\" + str(i) + \".csv\"),os.path.join(df_dir, \"df_DenseNet121_test.csv\"))\n",
    "    dfs_train.append(pd.read_csv(os.path.join(df_dir,  \"_\".join([\"df\",\"train\", str(i),\".csv\"]))))\n",
    "    dfs_val.append(pd.read_csv(os.path.join(df_dir,  \"_\".join([\"df\",\"val\", str(i),\".csv\"]))))\n",
    "    print(os.listdir(df_dir))"
   ]
  },
  {
   "cell_type": "code",
   "execution_count": 130,
   "metadata": {},
   "outputs": [],
   "source": [
    "train_filenames = [set(x.filename) for x in dfs_train]\n",
    "val_filenames = [set(x.filename) for x in dfs_val]"
   ]
  },
  {
   "cell_type": "code",
   "execution_count": 131,
   "metadata": {},
   "outputs": [
    {
     "name": "stdout",
     "output_type": "stream",
     "text": [
      "0\n",
      "0\n",
      "0\n",
      "0\n",
      "0\n",
      "0\n",
      "0\n",
      "0\n",
      "0\n",
      "0\n"
     ]
    }
   ],
   "source": [
    "for i in range(10):\n",
    "     print(len(train_filenames[i] &val_filenames[i]))"
   ]
  },
  {
   "cell_type": "code",
   "execution_count": 132,
   "metadata": {},
   "outputs": [
    {
     "name": "stdout",
     "output_type": "stream",
     "text": [
      "0\n",
      "0\n",
      "0\n",
      "0\n",
      "0\n",
      "0\n",
      "0\n",
      "0\n",
      "0\n",
      "0\n",
      "0\n",
      "0\n",
      "0\n",
      "0\n",
      "0\n",
      "0\n",
      "0\n",
      "0\n",
      "0\n",
      "0\n",
      "0\n",
      "0\n",
      "0\n",
      "0\n",
      "0\n",
      "0\n",
      "0\n",
      "0\n",
      "0\n",
      "0\n",
      "0\n",
      "0\n",
      "0\n",
      "0\n",
      "0\n",
      "0\n",
      "0\n",
      "0\n",
      "0\n",
      "0\n",
      "0\n",
      "0\n",
      "0\n",
      "0\n",
      "0\n",
      "0\n",
      "0\n",
      "0\n",
      "0\n",
      "0\n",
      "0\n",
      "0\n",
      "0\n",
      "0\n",
      "0\n",
      "0\n",
      "0\n",
      "0\n",
      "0\n",
      "0\n",
      "0\n",
      "0\n",
      "0\n",
      "0\n",
      "0\n",
      "0\n",
      "0\n",
      "0\n",
      "0\n",
      "0\n",
      "0\n",
      "0\n",
      "0\n",
      "0\n",
      "0\n",
      "0\n",
      "0\n",
      "0\n",
      "0\n",
      "0\n",
      "0\n",
      "0\n",
      "0\n",
      "0\n",
      "0\n",
      "0\n",
      "0\n",
      "0\n",
      "0\n",
      "0\n"
     ]
    }
   ],
   "source": [
    "for i in range(10):\n",
    "    for j in range(10):\n",
    "        if i!=j:\n",
    "            print(len(val_filenames[i] &val_filenames[j]))"
   ]
  },
  {
   "cell_type": "code",
   "execution_count": null,
   "metadata": {},
   "outputs": [],
   "source": []
  }
 ],
 "metadata": {
  "kernelspec": {
   "display_name": "eye_venv",
   "language": "python",
   "name": "eye_venv"
  },
  "language_info": {
   "codemirror_mode": {
    "name": "ipython",
    "version": 3
   },
   "file_extension": ".py",
   "mimetype": "text/x-python",
   "name": "python",
   "nbconvert_exporter": "python",
   "pygments_lexer": "ipython3",
   "version": "3.6.8"
  }
 },
 "nbformat": 4,
 "nbformat_minor": 4
}
