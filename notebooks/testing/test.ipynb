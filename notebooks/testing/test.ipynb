{
 "cells": [
  {
   "cell_type": "code",
   "execution_count": null,
   "metadata": {},
   "outputs": [],
   "source": [
    "import os\n",
    "os.environ[\"CUDA_DEVICE_ORDER\"]=\"PCI_BUS_ID\";\n",
    " \n",
    "# The GPU id to use, usually either \"0\" , \"1\", \"2\" or \"3\";\n",
    "os.environ[\"CUDA_VISIBLE_DEVICES\"]=\"0\";  "
   ]
  },
  {
   "cell_type": "code",
   "execution_count": 2,
   "metadata": {},
   "outputs": [],
   "source": [
    "%%capture\n",
    "import warnings\n",
    "warnings.simplefilter('ignore',  DeprecationWarning)\n",
    "import sys\n",
    "\n",
    "import pickle\n",
    "import glob\n",
    "import json\n",
    "import numpy as np\n",
    "import pandas as pd\n",
    "import matplotlib.pyplot as plt\n",
    "\n",
    "from keras.models import Model, load_model\n",
    "from keras.preprocessing.image import ImageDataGenerator\n",
    "\n",
    "from sklearn.metrics import confusion_matrix\n",
    "from sklearn.metrics import roc_curve\n",
    "from sklearn.metrics import roc_auc_score\n",
    "from sklearn.metrics import log_loss\n",
    "from sklearn.metrics import f1_score\n",
    "from sklearn.metrics import precision_score\n",
    "from sklearn.metrics import recall_score\n",
    "from sklearn.metrics import accuracy_score\n",
    "import tensorflow.compat.v1 as tf\n",
    "tf.disable_v2_behavior()\n",
    "\n",
    "#include the directory with custom functions\n",
    "sys.path.insert(1, '../custom_functions')\n",
    "from train_functions import *\n",
    "from test_functions import *"
   ]
  },
  {
   "cell_type": "code",
   "execution_count": 3,
   "metadata": {},
   "outputs": [
    {
     "name": "stdout",
     "output_type": "stream",
     "text": [
      "1.14.0\n"
     ]
    }
   ],
   "source": [
    "from __future__ import absolute_import, division, print_function, unicode_literals\n",
    "import tensorflow as tf\n",
    "print(tf.__version__)"
   ]
  },
  {
   "cell_type": "code",
   "execution_count": 4,
   "metadata": {},
   "outputs": [],
   "source": [
    "#The dir containing the model's (*.hdf5 files)\n",
    "MODEL_DIR = '../../models/cv_prod_test/'\n",
    "\n",
    "#Dirs with test dataset\n",
    "TEST_IMAGES_DIR = '../../datasets/dataset_mixed/test'\n",
    "TEST_DATAFRAME_PATH = os.path.join(TEST_IMAGES_DIR, \"df_Forgetful_Fabio.csv\")\n",
    "\n",
    "#Dirs with train dataset\n",
    "TRAIN_DATAFRAME_DIR = os.path.join(MODEL_DIR, 'temp_dataframes')\n",
    "TRAIN_IMAGES_DIR = '../../datasets/dataset_mixed/train'\n",
    "\n",
    "#Dir for saving images obtained in testing (like learning curves)\n",
    "IMAGES_DIR = os.path.join(MODEL_DIR, 'images')\n",
    "\n",
    "#Path to the config file (usually in the model dir)\n",
    "CONFIG_PATH = os.path.join(MODEL_DIR, \"model_config.json\") \n",
    "\n",
    "BATCH_SIZE = 32\n",
    "\n",
    "#IMAGE DPI for saveing plots\n",
    "IMG_DPI=600\n"
   ]
  },
  {
   "cell_type": "code",
   "execution_count": 5,
   "metadata": {},
   "outputs": [
    {
     "name": "stdout",
     "output_type": "stream",
     "text": [
      "training_is_finished:  False\n",
      "Model filenames: ['last_cv_prod_test.h5', 'best_cv_prod_test_.h5']\n"
     ]
    }
   ],
   "source": [
    "# Importing congig and normalization mode for generators\n",
    "if not os.path.exists(IMAGES_DIR):\n",
    "    os.mkdir(IMAGES_DIR)\n",
    "\n",
    "with open(CONFIG_PATH , \"r\") as read_file:\n",
    "    config_dict = json.load(read_file)\n",
    "\n",
    "training_is_finished = config_dict['training_is_finished']\n",
    "print('training_is_finished: ', training_is_finished)\n",
    "\n",
    "with open(os.path.join(MODEL_DIR, 'train_history/history.json')) as file:\n",
    "    history = json.load(file)\n",
    "model_filenames = list(filter(lambda x: x.endswith('.h5'), os.listdir(MODEL_DIR))) \n",
    "print(\"Model filenames:\", model_filenames)\n",
    "\n",
    "\n",
    "samplewise_std_normalization, samplewise_center,\\\n",
    "featurewise_std_normalization, featurewise_center, rescale =\\\n",
    "                        normalization_mode_setter(config_dict['normalization_mode'])\n",
    "\n",
    "df_test = pd.read_csv(TEST_DATAFRAME_PATH)"
   ]
  },
  {
   "cell_type": "code",
   "execution_count": 6,
   "metadata": {},
   "outputs": [
    {
     "name": "stdout",
     "output_type": "stream",
     "text": [
      "Max val_ROCAUC: 0.728\n"
     ]
    },
    {
     "data": {
      "image/png": "[encoded data removed]",
      "text/plain": [
       "<Figure size 432x288 with 1 Axes>"
      ]
     },
     "metadata": {
      "needs_background": "light"
     },
     "output_type": "display_data"
    }
   ],
   "source": [
    "#Printing and saving learning curves (ROCAUC)\n",
    "number_of_points = len(history['val_loss'])\n",
    "x_arr = np.arange(number_of_points) + 1\n",
    "\n",
    "fig, ax = plt.subplots()\n",
    "ax.axis([0,number_of_points,0,1])\n",
    "     \n",
    "train_rocauc_arr = np.array(history['train_ROCAUC'])\n",
    "val_rocauc_arr = np.array(history['val_ROCAUC'])\n",
    "max_val_rocauc = np.round(np.max(val_rocauc_arr),4)\n",
    "ax.plot(x_arr, train_rocauc_arr, label = 'train_ROCAUC')\n",
    "ax.plot(x_arr, val_rocauc_arr, label = 'val_ROCAUC')\n",
    "ax.set_yticks(np.arange(0., 1., 0.1), minor = False)\n",
    "ax.grid(True)\n",
    "ax.legend()\n",
    "print(\"Max val_ROCAUC:\", max_val_rocauc)\n",
    "plt.savefig(os.path.join(IMAGES_DIR, 'learning_curves'), dpi = IMG_DPI)"
   ]
  },
  {
   "cell_type": "code",
   "execution_count": 7,
   "metadata": {},
   "outputs": [
    {
     "name": "stdout",
     "output_type": "stream",
     "text": [
      "Min loss: 0.6706\n"
     ]
    },
    {
     "data": {
      "image/png": "[encoded data removed]",
      "text/plain": [
       "<Figure size 432x288 with 1 Axes>"
      ]
     },
     "metadata": {
      "needs_background": "light"
     },
     "output_type": "display_data"
    }
   ],
   "source": [
    "#Printing and saving learning curves (loss)\n",
    "number_of_points = len(history['train_loss'])\n",
    "x_arr = np.arange(number_of_points) + 1\n",
    "\n",
    "fig, ax = plt.subplots()\n",
    "ax.axis([0,number_of_points,0,1])\n",
    "     \n",
    "train_loss_arr = np.array(history['train_loss'])\n",
    "val_loss_arr = np.array(history['val_loss'])\n",
    "max_loss = np.round(np.max(train_loss_arr),4)\n",
    "min_loss = np.round(np.min(train_loss_arr),4)\n",
    "ax.plot(x_arr, train_loss_arr, label = 'train_loss')\n",
    "ax.plot(x_arr, val_loss_arr, label = 'val_loss')\n",
    "#ax.set_yticks(np.arange(0., 1.1* max_loss, 0.1), minor = False)\n",
    "ax.grid(True)\n",
    "ax.legend()\n",
    "print(\"Min loss:\", min_loss)\n",
    "plt.savefig(os.path.join(IMAGES_DIR, 'loss_curves'), dpi = IMG_DPI)"
   ]
  },
  {
   "cell_type": "code",
   "execution_count": 8,
   "metadata": {},
   "outputs": [
    {
     "name": "stdout",
     "output_type": "stream",
     "text": [
      "Found 238 validated image filenames belonging to 2 classes.\n",
      "Class_indices:  {'non-retina': 0, 'retina': 1}\n",
      "class_weights: {1: 1.0, 0: 2.6615384615384614}\n"
     ]
    }
   ],
   "source": [
    "#Defining test generator (for metrics computing)\n",
    "test_datagen = ImageDataGenerator(\n",
    "        samplewise_std_normalization = samplewise_std_normalization, \n",
    "        samplewise_center = samplewise_center,\n",
    "        featurewise_std_normalization = featurewise_std_normalization,\n",
    "        featurewise_center = featurewise_center,\n",
    "        rescale = rescale\n",
    ")\n",
    "\n",
    "test_generator = test_datagen.flow_from_dataframe(\n",
    "        dataframe = df_test,\n",
    "        x_col=\"filename\",\n",
    "        y_col=\"output_classes\",\n",
    "        directory = TEST_IMAGES_DIR,\n",
    "        target_size=(config_dict['image_size'], config_dict['image_size']),\n",
    "        batch_size=BATCH_SIZE,\n",
    "        class_mode='binary',\n",
    "        shuffle = False \n",
    "    )\n",
    "       \n",
    "class_weights = get_class_weigts(test_generator)\n",
    "print('Class_indices: ', test_generator.class_indices)\n",
    "print('class_weights:', class_weights)\n"
   ]
  },
  {
   "cell_type": "code",
   "execution_count": 9,
   "metadata": {},
   "outputs": [
    {
     "data": {
      "text/plain": [
       "['last_cv_prod_test.h5', 'best_cv_prod_test_.h5']"
      ]
     },
     "execution_count": 9,
     "metadata": {},
     "output_type": "execute_result"
    }
   ],
   "source": [
    "model_filenames"
   ]
  },
  {
   "cell_type": "code",
   "execution_count": 10,
   "metadata": {},
   "outputs": [],
   "source": [
    "#Importing the model\n",
    "model_filepath = os.path.join(MODEL_DIR, model_filenames[0])\n",
    "model = load_model(model_filepath)"
   ]
  },
  {
   "cell_type": "code",
   "execution_count": 11,
   "metadata": {},
   "outputs": [],
   "source": [
    "probs = model.predict_generator(test_generator)"
   ]
  },
  {
   "cell_type": "code",
   "execution_count": 13,
   "metadata": {},
   "outputs": [
    {
     "name": "stdout",
     "output_type": "stream",
     "text": [
      "Found 703 validated image filenames belonging to 2 classes.\n"
     ]
    }
   ],
   "source": [
    "#Choosing the threshold using train dataset\n",
    "\n",
    "df_train_path = os.path.join(MODEL_DIR, \"temp_dataframes\", \"_\".join([\"df\", config_dict[\"model_name\"], \"train.csv\"]))\n",
    "df_train = remove_flips_from_df(pd.read_csv(df_train_path))\n",
    "\n",
    "train_generator = test_datagen.flow_from_dataframe(\n",
    "        dataframe = df_train,\n",
    "        x_col=\"filename\",\n",
    "        y_col=\"output_classes\",\n",
    "        directory = TRAIN_IMAGES_DIR,\n",
    "        target_size=(config_dict[\"image_size\"], config_dict[\"image_size\"]),\n",
    "        batch_size=32,\n",
    "        class_mode=config_dict[\"class_mode\"],\n",
    "        shuffle = False \n",
    "    )\n",
    "train_probs = model.predict_generator(train_generator)\n",
    "threshold = choose_roc_threshold(train_generator.labels, train_probs)"
   ]
  },
  {
   "cell_type": "code",
   "execution_count": 14,
   "metadata": {},
   "outputs": [
    {
     "data": {
      "text/plain": [
       "0.40707585"
      ]
     },
     "execution_count": 14,
     "metadata": {},
     "output_type": "execute_result"
    }
   ],
   "source": [
    "threshold"
   ]
  },
  {
   "cell_type": "code",
   "execution_count": 15,
   "metadata": {},
   "outputs": [],
   "source": [
    "#Converting probabilities to labels using threshold \n",
    "threshold\n",
    "choose_class_binary = lambda x: 0 if x < threshold else 1\n",
    "choose_classes= lambda x: np.array([choose_class_binary(x[i]) for i in range(x.shape[0])])\n",
    "\n",
    "labels= np.array(test_generator.labels)\n",
    "preds = choose_classes(probs)"
   ]
  },
  {
   "cell_type": "code",
   "execution_count": 16,
   "metadata": {},
   "outputs": [
    {
     "name": "stdout",
     "output_type": "stream",
     "text": [
      "{'test_acc': 0.6974789915966386, 'test_precision': 0.8633093525179856, 'test_recall': 0.6936416184971098, 'test_f1': 0.7692307692307692, 'threshold': 0.4070758521556854, 'rocauc': 0.7364161849710983}\n"
     ]
    }
   ],
   "source": [
    "#Calculating different metrics\n",
    "test_acc = np.sum(labels == preds) / test_generator.n\n",
    "test_precision = np.sum((preds == 1)*(labels == 1)) / np.sum(preds == 1 )\n",
    "test_recall = np.sum((preds == 1)*(labels == 1)) / np.sum(labels == 1)\n",
    "test_f1 = 2 * test_precision * test_recall / (test_precision + test_recall)\n",
    "#test_f1 = f1_score(labels, preds)\n",
    "\n",
    "metrics_dict = {\n",
    "    'test_acc': accuracy_score(labels, preds).astype(np.float64),\n",
    "    'test_precision': precision_score(labels, preds).astype(np.float64),\n",
    "    'test_recall': recall_score(labels, preds).astype(np.float64),\n",
    "    'test_f1': f1_score(labels, preds).astype(np.float64),\n",
    "    'threshold': threshold.astype(np.float64),\n",
    "    'rocauc': roc_auc_score(labels, probs)\n",
    "}\n",
    "\n",
    "print(metrics_dict)"
   ]
  },
  {
   "cell_type": "code",
   "execution_count": 20,
   "metadata": {},
   "outputs": [
    {
     "data": {
      "image/png": "[encoded data removed]",
      "text/plain": [
       "<Figure size 504x504 with 2 Axes>"
      ]
     },
     "metadata": {
      "needs_background": "light"
     },
     "output_type": "display_data"
    }
   ],
   "source": [
    "#Confusion matrix on test dataset\n",
    "visualize_confusion_matrix(\n",
    "    confusion_matrix(labels, preds), \n",
    "    img_path=os.path.join(IMAGES_DIR, 'confusion_matrix'),\n",
    "    img_dpi=IMG_DPI\n",
    ")\n"
   ]
  },
  {
   "cell_type": "code",
   "execution_count": 18,
   "metadata": {},
   "outputs": [
    {
     "data": {
      "image/png": "[encoded data removed]",
      "text/plain": [
       "<Figure size 432x288 with 1 Axes>"
      ]
     },
     "metadata": {
      "needs_background": "light"
     },
     "output_type": "display_data"
    }
   ],
   "source": [
    "#ROC curve and ROCAUC on test dataset\n",
    "fpr, tpr, _ = roc_curve(labels, probs)\n",
    "roc_auc = roc_auc_score(labels, probs)\n",
    "#plt.figure()\n",
    "lw = 2\n",
    "plt.plot(fpr, tpr, color='darkorange',\n",
    "         lw=lw, label='ROC curve (area = %0.2f)' % roc_auc)\n",
    "plt.plot([0, 1], [0, 1], color='navy', lw=lw, linestyle='--')\n",
    "plt.xlim([0.0, 1.0])\n",
    "plt.ylim([0.0, 1.01])\n",
    "plt.xlabel('False Positive Rate')\n",
    "plt.ylabel('True Positive Rate')\n",
    "plt.title('ROC curve')\n",
    "plt.legend(loc=\"lower right\")\n",
    "#plt.show()\n",
    "plt.savefig(os.path.join(IMAGES_DIR, 'ROC_curve'), dpi = IMG_DPI)"
   ]
  },
  {
   "cell_type": "code",
   "execution_count": null,
   "metadata": {},
   "outputs": [],
   "source": []
  }
 ],
 "metadata": {
  "kernelspec": {
   "display_name": "eye_project_venv",
   "language": "python",
   "name": "eye_project_venv"
  },
  "language_info": {
   "codemirror_mode": {
    "name": "ipython",
    "version": 3
   },
   "file_extension": ".py",
   "mimetype": "text/x-python",
   "name": "python",
   "nbconvert_exporter": "python",
   "pygments_lexer": "ipython3",
   "version": "3.6.9"
  }
 },
 "nbformat": 4,
 "nbformat_minor": 4
}
